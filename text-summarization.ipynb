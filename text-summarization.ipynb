{
 "cells": [
  {
   "cell_type": "code",
   "execution_count": 6,
   "metadata": {},
   "outputs": [],
   "source": [
    "import torch\n",
    "from transformers import AutoTokenizer, AutoModelWithLMHead"
   ]
  },
  {
   "cell_type": "code",
   "execution_count": 7,
   "metadata": {},
   "outputs": [
    {
     "data": {
      "application/vnd.jupyter.widget-view+json": {
       "model_id": "603248ff64bd4864a44e655b708139a3",
       "version_major": 2,
       "version_minor": 0
      },
      "text/plain": [
       "HBox(children=(HTML(value='Downloading'), FloatProgress(value=0.0, max=1199.0), HTML(value='')))"
      ]
     },
     "metadata": {},
     "output_type": "display_data"
    },
    {
     "name": "stdout",
     "output_type": "stream",
     "text": [
      "\n"
     ]
    },
    {
     "data": {
      "application/vnd.jupyter.widget-view+json": {
       "model_id": "d0d2543da7e24316a7c9c67f6723d98e",
       "version_major": 2,
       "version_minor": 0
      },
      "text/plain": [
       "HBox(children=(HTML(value='Downloading'), FloatProgress(value=0.0, max=791656.0), HTML(value='')))"
      ]
     },
     "metadata": {},
     "output_type": "display_data"
    },
    {
     "name": "stdout",
     "output_type": "stream",
     "text": [
      "\n"
     ]
    },
    {
     "data": {
      "application/vnd.jupyter.widget-view+json": {
       "model_id": "b585bfa778204fde9afeadfb98174058",
       "version_major": 2,
       "version_minor": 0
      },
      "text/plain": [
       "HBox(children=(HTML(value='Downloading'), FloatProgress(value=0.0, max=1389353.0), HTML(value='')))"
      ]
     },
     "metadata": {},
     "output_type": "display_data"
    },
    {
     "name": "stdout",
     "output_type": "stream",
     "text": [
      "\n"
     ]
    },
    {
     "name": "stderr",
     "output_type": "stream",
     "text": [
      "D:\\Anaconda\\lib\\site-packages\\transformers\\models\\auto\\modeling_auto.py:921: FutureWarning: The class `AutoModelWithLMHead` is deprecated and will be removed in a future version. Please use `AutoModelForCausalLM` for causal language models, `AutoModelForMaskedLM` for masked language models and `AutoModelForSeq2SeqLM` for encoder-decoder models.\n",
      "  warnings.warn(\n"
     ]
    },
    {
     "data": {
      "application/vnd.jupyter.widget-view+json": {
       "model_id": "60c2d2a9cde64d5ebbb5c26ba080dba5",
       "version_major": 2,
       "version_minor": 0
      },
      "text/plain": [
       "HBox(children=(HTML(value='Downloading'), FloatProgress(value=0.0, max=891691430.0), HTML(value='')))"
      ]
     },
     "metadata": {},
     "output_type": "display_data"
    },
    {
     "name": "stdout",
     "output_type": "stream",
     "text": [
      "\n"
     ]
    }
   ],
   "source": [
    "tokenizer = AutoTokenizer.from_pretrained('t5-base')\n",
    "model = AutoModelWithLMHead.from_pretrained('t5-base', return_dict=True)"
   ]
  },
  {
   "cell_type": "code",
   "execution_count": 10,
   "metadata": {},
   "outputs": [],
   "source": [
    "ind = ('''Indonesia (/ˌɪndəˈniːʒə/ (About this soundlisten) IN-də-NEE-zhə), officially the Republic of Indonesia (Indonesian: Republik Indonesia [reˈpublik ɪndoˈnesia] (About this soundlisten)),[a] is a country in Southeast Asia and Oceania, between the Indian and Pacific oceans. It consists of more than seventeen thousand islands, including Sumatra, Java, Sulawesi, and parts of Borneo (Kalimantan) and New Guinea (Papua). Indonesia is the world's largest island country and the 14th-largest country by land area, at 1,904,569 square kilometres (735,358 square miles). With over 267 million people, it is the world's 4th-most populous country as well as the most populous Muslim-majority country. Java, the world's most populous island, is home to more than half of the country's population.\n",
    "\n",
    "The sovereign state is a presidential, constitutional republic with an elected legislature. It has 34 provinces, of which five have special status. The country's capital, Jakarta, is the second-most populous urban area in the world. The country shares land borders with Papua New Guinea, East Timor, and the eastern part of Malaysia. Other neighbouring countries include Singapore, Vietnam, the Philippines, Australia, Palau, and India's Andaman and Nicobar Islands. Despite its large population and densely populated regions, Indonesia has vast areas of wilderness that support one of the world's highest levels of biodiversity.\n",
    "\n",
    "The Indonesian archipelago has been a valuable region for trade since at least the 7th century when Srivijaya and later Majapahit traded with entities from mainland China and the Indian subcontinent. Local rulers gradually absorbed foreign influences from the early centuries and Hindu and Buddhist kingdoms flourished. Sunni traders and Sufi scholars brought Islam, while Europeans introduced Christianity through colonisation. Although sometimes interrupted by the Portuguese, French and British, the Dutch were the foremost colonial power for much of their 350-year presence in the archipelago. The concept of \"Indonesia\" as a nation-state emerged in the early 20th century[13] and the country proclaimed its independence in 1945. However, it was not until 1949 that the Dutch recognised Indonesia's sovereignty following an armed and diplomatic conflict between the two.\n",
    "\n",
    "Indonesia consists of hundreds of distinct native ethnic and linguistic groups, with the largest one being the Javanese. A shared identity has developed with the motto \"Bhinneka Tunggal Ika\" (\"Unity in Diversity\" literally, \"many, yet one\"), defined by a national language, ethnic diversity, religious pluralism within a Muslim-majority population, and a history of colonialism and rebellion against it. The economy of Indonesia is the world's 16th largest by nominal GDP and 7th by GDP at PPP. Indonesia is the only regional power in Southeast Asia and is considered a middle power in global affairs. The country is a member of several multilateral organisations, including the United Nations, World Trade Organization, G20, and a founding member of Non-Aligned Movement, Association of Southeast Asian Nations (ASEAN), East Asia Summit, and the Organisation of Islamic Cooperation.''')"
   ]
  },
  {
   "cell_type": "code",
   "execution_count": 14,
   "metadata": {},
   "outputs": [
    {
     "name": "stdout",
     "output_type": "stream",
     "text": [
      "<pad> Indonesia is the world's largest island country and the 14th-largest country by land area. with over 267 million people, it is the world's 4th-most populous country. with over 267 million people, it is the most populous Muslim-majority country. the country shares land borders with Papua new Guinea, east Timor, and the eastern part of Malaysia.</s>\n"
     ]
    }
   ],
   "source": [
    "inputs = tokenizer.encode(\"summarize:\" + ind, return_tensors='pt', max_length=512, truncation=True  )\n",
    "outputs = model.generate(inputs, max_length=500, min_length=80, length_penalty=5, num_beams=2)\n",
    "summary = tokenizer.decode(outputs[0])\n",
    "print(summary)"
   ]
  },
  {
   "cell_type": "code",
   "execution_count": 18,
   "metadata": {},
   "outputs": [],
   "source": [
    "early = ('''Fossilised remains of Homo erectus, popularly known as the \"Java Man\", suggest the Indonesian archipelago was inhabited two million to 500,000 years ago.[21][22][23] Homo sapiens reached the region around 43,000 BCE.[24] Austronesian peoples, who form the majority of the modern population, migrated to Southeast Asia from what is now Taiwan. They arrived in the archipelago around 2,000 BCE and confined the native Melanesian peoples to the far eastern regions as they spread east.[25] Ideal agricultural conditions and the mastering of wet-field rice cultivation as early as the eighth century BCE[26] allowed villages, towns, and small kingdoms to flourish by the first century CE. The archipelago's strategic sea-lane position fostered inter-island and international trade, including with Indian kingdoms and Chinese dynasties, from several centuries BCE.[27] Trade has since fundamentally shaped Indonesian history.[28][29]\n",
    "\n",
    "From the seventh century CE, the Srivijaya naval kingdom flourished as a result of trade and the influences of Hinduism and Buddhism.[30][31] Between the eighth and tenth centuries CE, the agricultural Buddhist Sailendra and Hindu Mataram dynasties thrived and declined in inland Java, leaving grand religious monuments such as Sailendra's Borobudur and Mataram's Prambanan. The Hindu Majapahit kingdom was founded in eastern Java in the late 13th century, and under Gajah Mada, its influence stretched over much of present-day Indonesia. This period is often referred to as a \"Golden Age\" in Indonesian history.[32]\n",
    "\n",
    "The earliest evidence of Islamized populations in the archipelago dates to the 13th century in northern Sumatra.[33] Other parts of the archipelago gradually adopted Islam, and it was the dominant religion in Java and Sumatra by the end of the 16th century. For the most part, Islam overlaid and mixed with existing cultural and religious influences, which shaped the predominant form of Islam in Indonesia, particularly in Java.[34]\n",
    "\n",
    "Colonial era\n",
    "Main article: Dutch East Indies\n",
    "\n",
    "The submission of Prince Diponegoro to General De Kock at the end of the Java War in 1830\n",
    "The first Europeans arrived in the archipelago in 1512, when Portuguese traders, led by Francisco Serrão, sought to monopolise the sources of nutmeg, cloves, and cubeb pepper in the Maluku Islands.[35] Dutch and British traders followed. In 1602, the Dutch established the Dutch East India Company (VOC) and became the dominant European power for almost 200 years. The VOC was dissolved in 1800 following bankruptcy, and the Netherlands established the Dutch East Indies as a nationalised colony.[36]\n",
    "\n",
    "For most of the colonial period, Dutch control over the archipelago was tenuous. Dutch forces were engaged continuously in quelling rebellions both on and off Java. The influence of local leaders such as Prince Diponegoro in central Java, Imam Bonjol in central Sumatra, Pattimura in Maluku, and bloody 30-year war in Aceh weakened the Dutch and tied up the colonial military forces.[37][38][39] Only in the early 20th century did the Dutch dominance extend to what was to become Indonesia's current boundaries.[39][40][41][42]\n",
    "\n",
    "\n",
    "\n",
    "Sukarno (left) and Hatta (right), Indonesia's founding fathers and the first President and Vice President\n",
    "The Japanese invasion and subsequent occupation during World War II ended Dutch rule[43][44][45] and encouraged the previously suppressed independence movement. Two days after the surrender of Japan in August 1945, Sukarno and Mohammad Hatta, influential nationalist leaders, proclaimed Indonesian independence and were appointed president and vice-president respectively.[46][47][48][46][49]\n",
    "\n",
    "The Netherlands attempted to re-establish their rule, and a bitter armed and diplomatic struggle ended in December 1949 when the Dutch formally recognised Indonesian independence in the face of international pressure.[50][48][51] Despite extraordinary political, social and sectarian divisions, Indonesians, on the whole, found unity in their fight for independence.[52][53]\n",
    "\n",
    "Modern era\n",
    "\n",
    "The aftermath of the 2004 Indian Ocean earthquake and tsunami in Banda Aceh. It is the deadliest natural disaster ever to hit Indonesia.\n",
    "As president, Sukarno moved Indonesia from democracy towards authoritarianism and maintained power by balancing the opposing forces of the military, political Islam, and the increasingly powerful Communist Party of Indonesia (PKI).[54] Tensions between the military and the PKI culminated in an attempted coup in 1965. The army, led by Major General Suharto, countered by instigating a violent anti-communist purge that killed between 500,000 and one million people.[55] The PKI was blamed for the coup and effectively destroyed.[56][57][58] Suharto capitalised on Sukarno's weakened position, and following a drawn-out power play with Sukarno, Suharto was appointed president in March 1968. His \"New Order\" administration,[59] supported by the United States,[60][61][62] encouraged foreign direct investment,[63][64] which was a crucial factor in the subsequent three decades of substantial economic growth.\n",
    "\n",
    "Indonesia was the country hardest hit by the 1997 Asian financial crisis.[65] It brought out popular discontent with the New Order's corruption and suppression of political opposition and ultimately ended Suharto's presidency.[43][66][67][68] In 1999, East Timor seceded from Indonesia, following its 1975 invasion by Indonesia[69] and a 25-year occupation that was marked by international condemnation of human rights abuses.[70]\n",
    "\n",
    "Since 1998, democratic processes have been strengthened by enhancing regional autonomy and instituting the country's first direct presidential election in 2004.[71] Political, economic and social instability, corruption, and instances of terrorism (the deadliest being the 2002 Bali bombings) remained problems in the 2000s; however, the economy has performed strongly in the last 15 years. Although relations among the diverse population are mostly harmonious, acute sectarian discontent and violence remain a problem in some areas.[72] A political settlement to an armed separatist conflict in Aceh was achieved in 2005 following the 2004 Indian Ocean earthquake and tsunami that killed 130,000 Indonesians.[73]''')"
   ]
  },
  {
   "cell_type": "code",
   "execution_count": 22,
   "metadata": {},
   "outputs": [
    {
     "name": "stdout",
     "output_type": "stream",
     "text": [
      "<pad> the archipelago was inhabited two million to 500,000 years ago. austronesian peoples migrated to the region around 2,000 BCE. trade with india and china influenced the archipelago's history. the earliest evidence of Islamized populations dates to the 13th century - a time when the region was ruled by the islamists.</s>\n"
     ]
    }
   ],
   "source": [
    "inputs2 = tokenizer.encode(\"summarize:\" + early, return_tensors='pt', max_length=512, truncation=True  )\n",
    "outputs2 = model.generate(inputs2, max_length=150, min_length=80, length_penalty=5, num_beams=2)\n",
    "summary2 = tokenizer.decode(outputs2[0])\n",
    "print(summary2)"
   ]
  },
  {
   "cell_type": "code",
   "execution_count": null,
   "metadata": {},
   "outputs": [],
   "source": []
  }
 ],
 "metadata": {
  "kernelspec": {
   "display_name": "Python 3",
   "language": "python",
   "name": "python3"
  },
  "language_info": {
   "codemirror_mode": {
    "name": "ipython",
    "version": 3
   },
   "file_extension": ".py",
   "mimetype": "text/x-python",
   "name": "python",
   "nbconvert_exporter": "python",
   "pygments_lexer": "ipython3",
   "version": "3.8.5"
  }
 },
 "nbformat": 4,
 "nbformat_minor": 4
}
